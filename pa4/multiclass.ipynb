{
 "cells": [
  {
   "cell_type": "code",
   "execution_count": 10,
   "metadata": {},
   "outputs": [],
   "source": [
    "import numpy as np\n",
    "import matplotlib.pyplot as plt"
   ]
  },
  {
   "cell_type": "code",
   "execution_count": 2,
   "metadata": {},
   "outputs": [],
   "source": [
    "data = []\n",
    "label = []\n",
    "f = open('data0.txt', 'r')\n",
    "for line in f:\n",
    "    line = line.strip('\\n')\n",
    "    line = line.split(' ')\n",
    "    data.append(line[:2])\n",
    "    label.append(line[-1])\n",
    "data = np.array(data).astype('int')\n",
    "label = np.array(label).astype('int')"
   ]
  },
  {
   "cell_type": "code",
   "execution_count": 3,
   "metadata": {},
   "outputs": [],
   "source": [
    "def predict(w, b, x):\n",
    "    pred = np.dot(x,w) + b\n",
    "    return np.argmax(pred,axis=1)"
   ]
  },
  {
   "cell_type": "code",
   "execution_count": 4,
   "metadata": {},
   "outputs": [],
   "source": [
    "w = np.zeros((2,4))\n",
    "b = np.zeros((1,4))\n",
    "pred = predict(w, b, data)\n",
    "right = np.sum(pred==label)"
   ]
  },
  {
   "cell_type": "code",
   "execution_count": 6,
   "metadata": {},
   "outputs": [],
   "source": [
    "while right != data.shape[0]:\n",
    "    for i in range(data.shape[0]):\n",
    "        if pred[i] != label[i]:\n",
    "            w[:,label[i]] += data[i]\n",
    "            b[:,label[i]] += 1\n",
    "            w[:,pred[i]] -= data[i]\n",
    "            b[:,pred[i]] -= 1\n",
    "    pred = predict(w, b, data)\n",
    "    right = np.sum(pred==label)"
   ]
  },
  {
   "cell_type": "code",
   "execution_count": 31,
   "metadata": {},
   "outputs": [
    {
     "data": {
      "image/png": "[encoded data removed]",
      "text/plain": [
       "<Figure size 432x288 with 1 Axes>"
      ]
     },
     "metadata": {},
     "output_type": "display_data"
    }
   ],
   "source": [
    "plt.figure()\n",
    "for i in range(data.shape[0]):\n",
    "    if label[i] == 0:\n",
    "        plt.scatter(data[i][0], data[i][1], color='r', marker='>')\n",
    "    elif label[i] == 1:\n",
    "        plt.scatter(data[i][0], data[i][1], color='y', marker='o')\n",
    "    elif label[i] == 2:\n",
    "        plt.scatter(data[i][0], data[i][1], color='b', marker='x')\n",
    "    else:\n",
    "        plt.scatter(data[i][0], data[i][1], color='gray', marker='D')\n",
    "plt.show()"
   ]
  },
  {
   "cell_type": "code",
   "execution_count": null,
   "metadata": {},
   "outputs": [],
   "source": []
  },
  {
   "cell_type": "code",
   "execution_count": null,
   "metadata": {},
   "outputs": [],
   "source": []
  },
  {
   "cell_type": "code",
   "execution_count": null,
   "metadata": {},
   "outputs": [],
   "source": []
  },
  {
   "cell_type": "code",
   "execution_count": null,
   "metadata": {},
   "outputs": [],
   "source": []
  }
 ],
 "metadata": {
  "kernelspec": {
   "display_name": "Python 3",
   "language": "python",
   "name": "python3"
  },
  "language_info": {
   "codemirror_mode": {
    "name": "ipython",
    "version": 3
   },
   "file_extension": ".py",
   "mimetype": "text/x-python",
   "name": "python",
   "nbconvert_exporter": "python",
   "pygments_lexer": "ipython3",
   "version": "3.6.5"
  }
 },
 "nbformat": 4,
 "nbformat_minor": 2
}
