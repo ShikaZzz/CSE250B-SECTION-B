{
 "cells": [
  {
   "cell_type": "code",
   "execution_count": 77,
   "metadata": {},
   "outputs": [],
   "source": [
    "import numpy as np\n",
    "import random\n",
    "import tqdm\n",
    "from read import *\n",
    "from sklearn.neighbors import KNeighborsClassifier\n",
    "from sklearn.cluster import KMeans\n",
    "from collections import Counter\n",
    "import matplotlib.pyplot as plt\n",
    "from scipy.stats import t"
   ]
  },
  {
   "cell_type": "code",
   "execution_count": 2,
   "metadata": {},
   "outputs": [],
   "source": [
    "trainData   = np.array(list(read('training','images')))\n",
    "trainLabels = np.array(list(read('training','labels')))\n",
    "testData    = np.array(list(read('testing','images')))\n",
    "testLabels  = np.array(list(read('testing','labels')))\n",
    "trainData   = np.reshape(trainData, (trainData.shape[0], -1))\n",
    "testData    = np.reshape(testData, (testData.shape[0], -1))\n",
    "\n",
    "labelIdx = list(enumerate(trainLabels))\n",
    "unique_label = list(set(trainLabels))"
   ]
  },
  {
   "cell_type": "code",
   "execution_count": 39,
   "metadata": {},
   "outputs": [],
   "source": [
    "def pca(trainData, testData, components):\n",
    "    \n",
    "    testData = np.reshape(testData, (testData.shape[0], -1))\n",
    "    \n",
    "    trainData = trainData - np.expand_dims(np.mean(trainData, axis=1), axis=1)\n",
    "    covariance = np.cov(trainData.T)\n",
    "    U, S, V = np.linalg.svd(covariance)\n",
    "    eigenvectors = U[:, :components]\n",
    "    trainData = np.dot(trainData, eigenvectors)\n",
    "    testData = np.dot(testData, eigenvectors)\n",
    "    \n",
    "    return trainData, testData"
   ]
  },
  {
   "cell_type": "code",
   "execution_count": 3,
   "metadata": {},
   "outputs": [],
   "source": [
    "def random_selection(trainData, trainLabels, M):\n",
    "    \n",
    "    idxs = list(np.random.choice(trainData.shape[0], M, replace=False))\n",
    "    reduced_train = trainData[idxs]\n",
    "    reduced_label = trainLabels[idxs]\n",
    "    \n",
    "    return reduced_train, reduced_label"
   ]
  },
  {
   "cell_type": "code",
   "execution_count": 26,
   "metadata": {},
   "outputs": [],
   "source": [
    "def prototype_selection(trainData, trainLabels, M, components):\n",
    "    \n",
    "    reduced_train = []\n",
    "    reduced_lebel = []\n",
    "    \n",
    "    each_label_num = int(M/10)\n",
    "    \n",
    "    # for every label in 0-9\n",
    "    for label in unique_label:\n",
    "        \n",
    "        # list of index of 0-9 in trainData/trainLabels\n",
    "        idx = [i for i, v in labelIdx if v == label]\n",
    "        \n",
    "        trains = trainData[idx]\n",
    "        labels = trainLabels[idx]\n",
    "        \n",
    "        model = KMeans(n_clusters = each_label_num)\n",
    "        model.fit(trains)\n",
    "        prototype = model.cluster_centers_\n",
    "        \n",
    "        reduced_train.append(prototype)\n",
    "        reduced_lebel.append(labels[:each_label_num])\n",
    "    \n",
    "    reduced_train = np.array(reduced_train).ravel().reshape(-1,components)\n",
    "    reduced_lebel = np.array(reduced_lebel).ravel()\n",
    "    return reduced_train, reduced_lebel"
   ]
  },
  {
   "cell_type": "code",
   "execution_count": null,
   "metadata": {},
   "outputs": [],
   "source": [
    "# ---------------------- no pca ---------------------------------#"
   ]
  },
  {
   "cell_type": "code",
   "execution_count": 7,
   "metadata": {},
   "outputs": [
    {
     "name": "stdout",
     "output_type": "stream",
     "text": [
      "Accuracy: 92.52%\n"
     ]
    }
   ],
   "source": [
    "M = 100\n",
    "reduced_train, reduced_label = prototype_selection(trainData, trainLabels, M)\n",
    "random_reduced_train, random_reduced_label = random_selection(trainData, trainLabels, M)\n",
    "# training data reduced by euclidean distance\n",
    "knn = KNeighborsClassifier(n_neighbors=1)\n",
    "knn.fit(reduced_train, reduced_label)\n",
    "result = knn.predict(testData)\n",
    "print(\"Accuracy: \" + str(np.sum(result==testLabels)/result.shape[0]*100) + '%')"
   ]
  },
  {
   "cell_type": "code",
   "execution_count": 8,
   "metadata": {},
   "outputs": [
    {
     "name": "stdout",
     "output_type": "stream",
     "text": [
      "Accuracy: 73.11%\n"
     ]
    }
   ],
   "source": [
    "# training data reduced by random\n",
    "knn = KNeighborsClassifier(n_neighbors=1)\n",
    "knn.fit(random_reduced_train, random_reduced_label)\n",
    "result = knn.predict(testData)\n",
    "print(\"Accuracy: \" + str(np.sum(result==testLabels)/result.shape[0]*100) + '%')"
   ]
  },
  {
   "cell_type": "code",
   "execution_count": 10,
   "metadata": {},
   "outputs": [
    {
     "name": "stdout",
     "output_type": "stream",
     "text": [
      "Accuracy: 95.08%\n",
      "Accuracy: 85.21%\n"
     ]
    }
   ],
   "source": [
    "M = 500\n",
    "reduced_train, reduced_label = prototype_selection(trainData, trainLabels, M)\n",
    "random_reduced_train, random_reduced_label = random_selection(trainData, trainLabels, M)\n",
    "\n",
    "# training data reduced by euclidean distance\n",
    "knn = KNeighborsClassifier(n_neighbors=1)\n",
    "knn.fit(reduced_train, reduced_label)\n",
    "result = knn.predict(testData)\n",
    "print(\"Accuracy: \" + str(np.sum(result==testLabels)/result.shape[0]*100) + '%')\n",
    "\n",
    "# training data reduced by random\n",
    "knn = KNeighborsClassifier(n_neighbors=1)\n",
    "knn.fit(random_reduced_train, random_reduced_label)\n",
    "result = knn.predict(testData)\n",
    "print(\"Accuracy: \" + str(np.sum(result==testLabels)/result.shape[0]*100) + '%')"
   ]
  },
  {
   "cell_type": "code",
   "execution_count": 12,
   "metadata": {},
   "outputs": [
    {
     "name": "stdout",
     "output_type": "stream",
     "text": [
      "Accuracy: 95.94%\n",
      "Accuracy: 89.14%\n"
     ]
    }
   ],
   "source": [
    "M = 1000\n",
    "reduced_train, reduced_label = prototype_selection(trainData, trainLabels, M)\n",
    "random_reduced_train, random_reduced_label = random_selection(trainData, trainLabels, M)\n",
    "\n",
    "# training data reduced by euclidean distance\n",
    "knn = KNeighborsClassifier(n_neighbors=1)\n",
    "knn.fit(reduced_train, reduced_label)\n",
    "result = knn.predict(testData)\n",
    "print(\"Accuracy: \" + str(np.sum(result==testLabels)/result.shape[0]*100) + '%')\n",
    "\n",
    "# training data reduced by random\n",
    "knn = KNeighborsClassifier(n_neighbors=1)\n",
    "knn.fit(random_reduced_train, random_reduced_label)\n",
    "result = knn.predict(testData)\n",
    "print(\"Accuracy: \" + str(np.sum(result==testLabels)/result.shape[0]*100) + '%')"
   ]
  },
  {
   "cell_type": "code",
   "execution_count": 14,
   "metadata": {},
   "outputs": [
    {
     "name": "stdout",
     "output_type": "stream",
     "text": [
      "Accuracy: 96.69%\n",
      "Accuracy: 93.2%\n"
     ]
    }
   ],
   "source": [
    "M = 5000\n",
    "reduced_train, reduced_label = prototype_selection(trainData, trainLabels, M)\n",
    "random_reduced_train, random_reduced_label = random_selection(trainData, trainLabels, M)\n",
    "\n",
    "# training data reduced by euclidean distance\n",
    "knn = KNeighborsClassifier(n_neighbors=1)\n",
    "knn.fit(reduced_train, reduced_label)\n",
    "result = knn.predict(testData)\n",
    "print(\"Accuracy: \" + str(np.sum(result==testLabels)/result.shape[0]*100) + '%')\n",
    "\n",
    "# training data reduced by random\n",
    "knn = KNeighborsClassifier(n_neighbors=1)\n",
    "knn.fit(random_reduced_train, random_reduced_label)\n",
    "result = knn.predict(testData)\n",
    "print(\"Accuracy: \" + str(np.sum(result==testLabels)/result.shape[0]*100) + '%')"
   ]
  },
  {
   "cell_type": "code",
   "execution_count": 19,
   "metadata": {},
   "outputs": [
    {
     "name": "stdout",
     "output_type": "stream",
     "text": [
      "Accuracy: 97.04%\n",
      "Accuracy: 94.78999999999999%\n"
     ]
    }
   ],
   "source": [
    "M = 10000\n",
    "reduced_train, reduced_label = prototype_selection(trainData, trainLabels, M)\n",
    "random_reduced_train, random_reduced_label = random_selection(trainData, trainLabels, M)\n",
    "\n",
    "# training data reduced by euclidean distance\n",
    "knn = KNeighborsClassifier(n_neighbors=1)\n",
    "knn.fit(reduced_train, reduced_label)\n",
    "result = knn.predict(testData)\n",
    "print(\"Accuracy: \" + str(np.sum(result==testLabels)/result.shape[0]*100) + '%')\n",
    "\n",
    "# training data reduced by random\n",
    "knn = KNeighborsClassifier(n_neighbors=1)\n",
    "knn.fit(random_reduced_train, random_reduced_label)\n",
    "result = knn.predict(testData)\n",
    "print(\"Accuracy: \" + str(np.sum(result==testLabels)/result.shape[0]*100) + '%')"
   ]
  },
  {
   "cell_type": "code",
   "execution_count": null,
   "metadata": {},
   "outputs": [],
   "source": [
    "# -------------------------------- pca -------------------------------------------- #"
   ]
  },
  {
   "cell_type": "code",
   "execution_count": 42,
   "metadata": {},
   "outputs": [
    {
     "name": "stdout",
     "output_type": "stream",
     "text": [
      "Accuracy: 92.24%\n",
      "Accuracy: 76.01%\n"
     ]
    }
   ],
   "source": [
    "M = 100\n",
    "components = 25\n",
    "train_pca, test_pca = pca(trainData, testData, components)\n",
    "reduced_train, reduced_label = prototype_selection(train_pca, trainLabels, M, components)\n",
    "random_reduced_train, random_reduced_label = random_selection(train_pca, trainLabels, M)\n",
    "\n",
    "# training data reduced by euclidean distance\n",
    "knn = KNeighborsClassifier(n_neighbors=1)\n",
    "knn.fit(reduced_train, reduced_label)\n",
    "result = knn.predict(test_pca)\n",
    "print(\"Accuracy: \" + str(np.sum(result==testLabels)/result.shape[0]*100) + '%')\n",
    "\n",
    "# training data reduced by random\n",
    "knn = KNeighborsClassifier(n_neighbors=1)\n",
    "knn.fit(random_reduced_train, random_reduced_label)\n",
    "result = knn.predict(test_pca)\n",
    "print(\"Accuracy: \" + str(np.sum(result==testLabels)/result.shape[0]*100) + '%')"
   ]
  },
  {
   "cell_type": "code",
   "execution_count": 43,
   "metadata": {},
   "outputs": [
    {
     "name": "stdout",
     "output_type": "stream",
     "text": [
      "Accuracy: 94.83%\n",
      "Accuracy: 86.57000000000001%\n"
     ]
    }
   ],
   "source": [
    "M = 500\n",
    "components = 25\n",
    "train_pca, test_pca = pca(trainData, testData, components)\n",
    "reduced_train, reduced_label = prototype_selection(train_pca, trainLabels, M, components)\n",
    "random_reduced_train, random_reduced_label = random_selection(train_pca, trainLabels, M)\n",
    "\n",
    "# training data reduced by euclidean distance\n",
    "knn = KNeighborsClassifier(n_neighbors=1)\n",
    "knn.fit(reduced_train, reduced_label)\n",
    "result = knn.predict(test_pca)\n",
    "print(\"Accuracy: \" + str(np.sum(result==testLabels)/result.shape[0]*100) + '%')\n",
    "\n",
    "# training data reduced by random\n",
    "knn = KNeighborsClassifier(n_neighbors=1)\n",
    "knn.fit(random_reduced_train, random_reduced_label)\n",
    "result = knn.predict(test_pca)\n",
    "print(\"Accuracy: \" + str(np.sum(result==testLabels)/result.shape[0]*100) + '%')"
   ]
  },
  {
   "cell_type": "code",
   "execution_count": 44,
   "metadata": {},
   "outputs": [
    {
     "name": "stdout",
     "output_type": "stream",
     "text": [
      "Accuracy: 95.71%\n",
      "Accuracy: 89.86%\n"
     ]
    }
   ],
   "source": [
    "M = 1000\n",
    "components = 25\n",
    "train_pca, test_pca = pca(trainData, testData, components)\n",
    "reduced_train, reduced_label = prototype_selection(train_pca, trainLabels, M, components)\n",
    "random_reduced_train, random_reduced_label = random_selection(train_pca, trainLabels, M)\n",
    "\n",
    "# training data reduced by euclidean distance\n",
    "knn = KNeighborsClassifier(n_neighbors=1)\n",
    "knn.fit(reduced_train, reduced_label)\n",
    "result = knn.predict(test_pca)\n",
    "print(\"Accuracy: \" + str(np.sum(result==testLabels)/result.shape[0]*100) + '%')\n",
    "\n",
    "# training data reduced by random\n",
    "knn = KNeighborsClassifier(n_neighbors=1)\n",
    "knn.fit(random_reduced_train, random_reduced_label)\n",
    "result = knn.predict(test_pca)\n",
    "print(\"Accuracy: \" + str(np.sum(result==testLabels)/result.shape[0]*100) + '%')"
   ]
  },
  {
   "cell_type": "code",
   "execution_count": 45,
   "metadata": {},
   "outputs": [
    {
     "name": "stdout",
     "output_type": "stream",
     "text": [
      "Accuracy: 96.69%\n",
      "Accuracy: 94.19999999999999%\n"
     ]
    }
   ],
   "source": [
    "M = 5000\n",
    "components = 25\n",
    "train_pca, test_pca = pca(trainData, testData, components)\n",
    "reduced_train, reduced_label = prototype_selection(train_pca, trainLabels, M, components)\n",
    "random_reduced_train, random_reduced_label = random_selection(train_pca, trainLabels, M)\n",
    "\n",
    "# training data reduced by euclidean distance\n",
    "knn = KNeighborsClassifier(n_neighbors=1)\n",
    "knn.fit(reduced_train, reduced_label)\n",
    "result = knn.predict(test_pca)\n",
    "print(\"Accuracy: \" + str(np.sum(result==testLabels)/result.shape[0]*100) + '%')\n",
    "\n",
    "# training data reduced by random\n",
    "knn = KNeighborsClassifier(n_neighbors=1)\n",
    "knn.fit(random_reduced_train, random_reduced_label)\n",
    "result = knn.predict(test_pca)\n",
    "print(\"Accuracy: \" + str(np.sum(result==testLabels)/result.shape[0]*100) + '%')"
   ]
  },
  {
   "cell_type": "code",
   "execution_count": 46,
   "metadata": {},
   "outputs": [
    {
     "name": "stdout",
     "output_type": "stream",
     "text": [
      "Accuracy: 96.61999999999999%\n",
      "Accuracy: 95.6%\n"
     ]
    }
   ],
   "source": [
    "M = 10000\n",
    "components = 25\n",
    "train_pca, test_pca = pca(trainData, testData, components)\n",
    "reduced_train, reduced_label = prototype_selection(train_pca, trainLabels, M, components)\n",
    "random_reduced_train, random_reduced_label = random_selection(train_pca, trainLabels, M)\n",
    "\n",
    "# training data reduced by euclidean distance\n",
    "knn = KNeighborsClassifier(n_neighbors=1)\n",
    "knn.fit(reduced_train, reduced_label)\n",
    "result = knn.predict(test_pca)\n",
    "print(\"Accuracy: \" + str(np.sum(result==testLabels)/result.shape[0]*100) + '%')\n",
    "\n",
    "# training data reduced by random\n",
    "knn = KNeighborsClassifier(n_neighbors=1)\n",
    "knn.fit(random_reduced_train, random_reduced_label)\n",
    "result = knn.predict(test_pca)\n",
    "print(\"Accuracy: \" + str(np.sum(result==testLabels)/result.shape[0]*100) + '%')"
   ]
  },
  {
   "cell_type": "code",
   "execution_count": null,
   "metadata": {},
   "outputs": [],
   "source": [
    "# ------------------------------------ pca many time ------------------------------------ #"
   ]
  },
  {
   "cell_type": "code",
   "execution_count": 53,
   "metadata": {},
   "outputs": [
    {
     "name": "stderr",
     "output_type": "stream",
     "text": [
      " 10%|█         | 1/10 [00:06<00:55,  6.12s/it]"
     ]
    },
    {
     "name": "stdout",
     "output_type": "stream",
     "text": [
      "Accuracy: 92.17999999999999%\n",
      "Accuracy: 74.67%\n"
     ]
    },
    {
     "name": "stderr",
     "output_type": "stream",
     "text": [
      "\r",
      " 20%|██        | 2/10 [00:12<00:49,  6.15s/it]"
     ]
    },
    {
     "name": "stdout",
     "output_type": "stream",
     "text": [
      "Accuracy: 92.33%\n",
      "Accuracy: 74.05000000000001%\n"
     ]
    },
    {
     "name": "stderr",
     "output_type": "stream",
     "text": [
      "\r",
      " 30%|███       | 3/10 [00:18<00:42,  6.04s/it]"
     ]
    },
    {
     "name": "stdout",
     "output_type": "stream",
     "text": [
      "Accuracy: 92.0%\n",
      "Accuracy: 72.58%\n"
     ]
    },
    {
     "name": "stderr",
     "output_type": "stream",
     "text": [
      "\r",
      " 40%|████      | 4/10 [00:24<00:37,  6.20s/it]"
     ]
    },
    {
     "name": "stdout",
     "output_type": "stream",
     "text": [
      "Accuracy: 92.17%\n",
      "Accuracy: 73.34%\n"
     ]
    },
    {
     "name": "stderr",
     "output_type": "stream",
     "text": [
      "\r",
      " 50%|█████     | 5/10 [00:30<00:30,  6.18s/it]"
     ]
    },
    {
     "name": "stdout",
     "output_type": "stream",
     "text": [
      "Accuracy: 92.21000000000001%\n",
      "Accuracy: 75.32%\n"
     ]
    },
    {
     "name": "stderr",
     "output_type": "stream",
     "text": [
      "\r",
      " 60%|██████    | 6/10 [00:37<00:24,  6.19s/it]"
     ]
    },
    {
     "name": "stdout",
     "output_type": "stream",
     "text": [
      "Accuracy: 92.06%\n",
      "Accuracy: 73.81%\n"
     ]
    },
    {
     "name": "stderr",
     "output_type": "stream",
     "text": [
      "\r",
      " 70%|███████   | 7/10 [00:43<00:18,  6.21s/it]"
     ]
    },
    {
     "name": "stdout",
     "output_type": "stream",
     "text": [
      "Accuracy: 92.15%\n",
      "Accuracy: 69.73%\n"
     ]
    },
    {
     "name": "stderr",
     "output_type": "stream",
     "text": [
      "\r",
      " 80%|████████  | 8/10 [00:49<00:12,  6.14s/it]"
     ]
    },
    {
     "name": "stdout",
     "output_type": "stream",
     "text": [
      "Accuracy: 92.25999999999999%\n",
      "Accuracy: 72.5%\n"
     ]
    },
    {
     "name": "stderr",
     "output_type": "stream",
     "text": [
      "\r",
      " 90%|█████████ | 9/10 [00:55<00:06,  6.21s/it]"
     ]
    },
    {
     "name": "stdout",
     "output_type": "stream",
     "text": [
      "Accuracy: 92.12%\n",
      "Accuracy: 76.21%\n"
     ]
    },
    {
     "name": "stderr",
     "output_type": "stream",
     "text": [
      "\r",
      "100%|██████████| 10/10 [01:01<00:00,  6.20s/it]"
     ]
    },
    {
     "name": "stdout",
     "output_type": "stream",
     "text": [
      "Accuracy: 92.44%\n",
      "Accuracy: 76.06%\n"
     ]
    },
    {
     "name": "stderr",
     "output_type": "stream",
     "text": [
      "\n"
     ]
    }
   ],
   "source": [
    "kmean_acc_100, random_acc_100 = [], []\n",
    "for i in tqdm.tqdm(range(10)):\n",
    "    M = 100\n",
    "    components = 25\n",
    "    train_pca, test_pca = pca(trainData, testData, components)\n",
    "    reduced_train, reduced_label = prototype_selection(train_pca, trainLabels, M, components)\n",
    "    random_reduced_train, random_reduced_label = random_selection(train_pca, trainLabels, M)\n",
    "\n",
    "    # training data reduced by euclidean distance\n",
    "    knn = KNeighborsClassifier(n_neighbors=1)\n",
    "    knn.fit(reduced_train, reduced_label)\n",
    "    result = knn.predict(test_pca)\n",
    "    print(\"Accuracy: \" + str(np.sum(result==testLabels)/result.shape[0]*100) + '%')\n",
    "    kmean_acc_100.append(np.sum(result==testLabels)/result.shape[0])\n",
    "    \n",
    "    # training data reduced by random\n",
    "    knn = KNeighborsClassifier(n_neighbors=1)\n",
    "    knn.fit(random_reduced_train, random_reduced_label)\n",
    "    result = knn.predict(test_pca)\n",
    "    random_acc_100.append(np.sum(result==testLabels)/result.shape[0])\n",
    "    print(\"Accuracy: \" + str(np.sum(result==testLabels)/result.shape[0]*100) + '%')"
   ]
  },
  {
   "cell_type": "code",
   "execution_count": 56,
   "metadata": {},
   "outputs": [
    {
     "name": "stderr",
     "output_type": "stream",
     "text": [
      " 10%|█         | 1/10 [00:17<02:34, 17.21s/it]"
     ]
    },
    {
     "name": "stdout",
     "output_type": "stream",
     "text": [
      "Accuracy: 95.17%\n",
      "Accuracy: 87.1%\n"
     ]
    },
    {
     "name": "stderr",
     "output_type": "stream",
     "text": [
      "\r",
      " 20%|██        | 2/10 [00:34<02:17, 17.20s/it]"
     ]
    },
    {
     "name": "stdout",
     "output_type": "stream",
     "text": [
      "Accuracy: 94.93%\n",
      "Accuracy: 87.42999999999999%\n"
     ]
    },
    {
     "name": "stderr",
     "output_type": "stream",
     "text": [
      "\r",
      " 30%|███       | 3/10 [00:51<01:59, 17.10s/it]"
     ]
    },
    {
     "name": "stdout",
     "output_type": "stream",
     "text": [
      "Accuracy: 95.00999999999999%\n",
      "Accuracy: 87.4%\n"
     ]
    },
    {
     "name": "stderr",
     "output_type": "stream",
     "text": [
      "\r",
      " 40%|████      | 4/10 [01:09<01:44, 17.39s/it]"
     ]
    },
    {
     "name": "stdout",
     "output_type": "stream",
     "text": [
      "Accuracy: 94.77%\n",
      "Accuracy: 87.31%\n"
     ]
    },
    {
     "name": "stderr",
     "output_type": "stream",
     "text": [
      "\r",
      " 50%|█████     | 5/10 [01:26<01:27, 17.40s/it]"
     ]
    },
    {
     "name": "stdout",
     "output_type": "stream",
     "text": [
      "Accuracy: 94.81%\n",
      "Accuracy: 86.92%\n"
     ]
    },
    {
     "name": "stderr",
     "output_type": "stream",
     "text": [
      "\r",
      " 60%|██████    | 6/10 [01:44<01:10, 17.61s/it]"
     ]
    },
    {
     "name": "stdout",
     "output_type": "stream",
     "text": [
      "Accuracy: 95.07%\n",
      "Accuracy: 87.19%\n"
     ]
    },
    {
     "name": "stderr",
     "output_type": "stream",
     "text": [
      "\r",
      " 70%|███████   | 7/10 [02:02<00:52, 17.61s/it]"
     ]
    },
    {
     "name": "stdout",
     "output_type": "stream",
     "text": [
      "Accuracy: 94.94%\n",
      "Accuracy: 86.75%\n"
     ]
    },
    {
     "name": "stderr",
     "output_type": "stream",
     "text": [
      "\r",
      " 80%|████████  | 8/10 [02:19<00:35, 17.59s/it]"
     ]
    },
    {
     "name": "stdout",
     "output_type": "stream",
     "text": [
      "Accuracy: 95.04%\n",
      "Accuracy: 87.96000000000001%\n"
     ]
    },
    {
     "name": "stderr",
     "output_type": "stream",
     "text": [
      "\r",
      " 90%|█████████ | 9/10 [02:37<00:17, 17.64s/it]"
     ]
    },
    {
     "name": "stdout",
     "output_type": "stream",
     "text": [
      "Accuracy: 94.95%\n",
      "Accuracy: 88.17%\n"
     ]
    },
    {
     "name": "stderr",
     "output_type": "stream",
     "text": [
      "\r",
      "100%|██████████| 10/10 [02:55<00:00, 17.71s/it]"
     ]
    },
    {
     "name": "stdout",
     "output_type": "stream",
     "text": [
      "Accuracy: 95.04%\n",
      "Accuracy: 87.29%\n"
     ]
    },
    {
     "name": "stderr",
     "output_type": "stream",
     "text": [
      "\n"
     ]
    }
   ],
   "source": [
    "kmean_acc_500, random_acc_500 = [], []\n",
    "for i in tqdm.tqdm(range(10)):\n",
    "    M = 500\n",
    "    components = 25\n",
    "    train_pca, test_pca = pca(trainData, testData, components)\n",
    "    reduced_train, reduced_label = prototype_selection(train_pca, trainLabels, M, components)\n",
    "    random_reduced_train, random_reduced_label = random_selection(train_pca, trainLabels, M)\n",
    "\n",
    "    # training data reduced by euclidean distance\n",
    "    knn = KNeighborsClassifier(n_neighbors=1)\n",
    "    knn.fit(reduced_train, reduced_label)\n",
    "    result = knn.predict(test_pca)\n",
    "    print(\"Accuracy: \" + str(np.sum(result==testLabels)/result.shape[0]*100) + '%')\n",
    "    kmean_acc_500.append(np.sum(result==testLabels)/result.shape[0])\n",
    "    \n",
    "    # training data reduced by random\n",
    "    knn = KNeighborsClassifier(n_neighbors=1)\n",
    "    knn.fit(random_reduced_train, random_reduced_label)\n",
    "    result = knn.predict(test_pca)\n",
    "    random_acc_500.append(np.sum(result==testLabels)/result.shape[0])\n",
    "    print(\"Accuracy: \" + str(np.sum(result==testLabels)/result.shape[0]*100) + '%')"
   ]
  },
  {
   "cell_type": "code",
   "execution_count": 58,
   "metadata": {},
   "outputs": [
    {
     "name": "stderr",
     "output_type": "stream",
     "text": [
      "\r",
      "  0%|          | 0/10 [00:00<?, ?it/s]"
     ]
    },
    {
     "name": "stdout",
     "output_type": "stream",
     "text": [
      "Accuracy: 95.64%\n"
     ]
    },
    {
     "name": "stderr",
     "output_type": "stream",
     "text": [
      "\r",
      " 10%|█         | 1/10 [00:25<03:51, 25.75s/it]"
     ]
    },
    {
     "name": "stdout",
     "output_type": "stream",
     "text": [
      "Accuracy: 90.55%\n",
      "Accuracy: 95.75%\n"
     ]
    },
    {
     "name": "stderr",
     "output_type": "stream",
     "text": [
      "\r",
      " 20%|██        | 2/10 [00:50<03:23, 25.49s/it]"
     ]
    },
    {
     "name": "stdout",
     "output_type": "stream",
     "text": [
      "Accuracy: 90.59%\n",
      "Accuracy: 95.67%\n"
     ]
    },
    {
     "name": "stderr",
     "output_type": "stream",
     "text": [
      "\r",
      " 30%|███       | 3/10 [01:15<02:56, 25.26s/it]"
     ]
    },
    {
     "name": "stdout",
     "output_type": "stream",
     "text": [
      "Accuracy: 90.48%\n",
      "Accuracy: 95.57%\n"
     ]
    },
    {
     "name": "stderr",
     "output_type": "stream",
     "text": [
      "\r",
      " 40%|████      | 4/10 [01:40<02:30, 25.08s/it]"
     ]
    },
    {
     "name": "stdout",
     "output_type": "stream",
     "text": [
      "Accuracy: 90.39%\n",
      "Accuracy: 95.67999999999999%\n"
     ]
    },
    {
     "name": "stderr",
     "output_type": "stream",
     "text": [
      "\r",
      " 50%|█████     | 5/10 [02:05<02:05, 25.18s/it]"
     ]
    },
    {
     "name": "stdout",
     "output_type": "stream",
     "text": [
      "Accuracy: 89.75999999999999%\n",
      "Accuracy: 95.6%\n"
     ]
    },
    {
     "name": "stderr",
     "output_type": "stream",
     "text": [
      "\r",
      " 60%|██████    | 6/10 [02:31<01:41, 25.31s/it]"
     ]
    },
    {
     "name": "stdout",
     "output_type": "stream",
     "text": [
      "Accuracy: 90.47%\n",
      "Accuracy: 95.75%\n"
     ]
    },
    {
     "name": "stderr",
     "output_type": "stream",
     "text": [
      "\r",
      " 70%|███████   | 7/10 [02:55<01:15, 25.14s/it]"
     ]
    },
    {
     "name": "stdout",
     "output_type": "stream",
     "text": [
      "Accuracy: 90.42999999999999%\n",
      "Accuracy: 95.67999999999999%\n"
     ]
    },
    {
     "name": "stderr",
     "output_type": "stream",
     "text": [
      "\r",
      " 80%|████████  | 8/10 [03:20<00:50, 25.14s/it]"
     ]
    },
    {
     "name": "stdout",
     "output_type": "stream",
     "text": [
      "Accuracy: 90.71000000000001%\n",
      "Accuracy: 95.76%\n"
     ]
    },
    {
     "name": "stderr",
     "output_type": "stream",
     "text": [
      "\r",
      " 90%|█████████ | 9/10 [03:46<00:25, 25.20s/it]"
     ]
    },
    {
     "name": "stdout",
     "output_type": "stream",
     "text": [
      "Accuracy: 90.16%\n",
      "Accuracy: 95.84%\n"
     ]
    },
    {
     "name": "stderr",
     "output_type": "stream",
     "text": [
      "\r",
      "100%|██████████| 10/10 [04:12<00:00, 25.50s/it]"
     ]
    },
    {
     "name": "stdout",
     "output_type": "stream",
     "text": [
      "Accuracy: 90.48%\n"
     ]
    },
    {
     "name": "stderr",
     "output_type": "stream",
     "text": [
      "\n"
     ]
    }
   ],
   "source": [
    "kmean_acc_1000, random_acc_1000 = [], []\n",
    "for i in tqdm.tqdm(range(10)):\n",
    "    M = 1000\n",
    "    components = 25\n",
    "    train_pca, test_pca = pca(trainData, testData, components)\n",
    "    reduced_train, reduced_label = prototype_selection(train_pca, trainLabels, M, components)\n",
    "    random_reduced_train, random_reduced_label = random_selection(train_pca, trainLabels, M)\n",
    "\n",
    "    # training data reduced by euclidean distance\n",
    "    knn = KNeighborsClassifier(n_neighbors=1)\n",
    "    knn.fit(reduced_train, reduced_label)\n",
    "    result = knn.predict(test_pca)\n",
    "    print(\"Accuracy: \" + str(np.sum(result==testLabels)/result.shape[0]*100) + '%')\n",
    "    kmean_acc_1000.append(np.sum(result==testLabels)/result.shape[0])\n",
    "    \n",
    "    # training data reduced by random\n",
    "    knn = KNeighborsClassifier(n_neighbors=1)\n",
    "    knn.fit(random_reduced_train, random_reduced_label)\n",
    "    result = knn.predict(test_pca)\n",
    "    random_acc_1000.append(np.sum(result==testLabels)/result.shape[0])\n",
    "    print(\"Accuracy: \" + str(np.sum(result==testLabels)/result.shape[0]*100) + '%')"
   ]
  },
  {
   "cell_type": "code",
   "execution_count": 61,
   "metadata": {},
   "outputs": [
    {
     "name": "stderr",
     "output_type": "stream",
     "text": [
      "\r",
      "  0%|          | 0/10 [00:00<?, ?it/s]"
     ]
    },
    {
     "name": "stdout",
     "output_type": "stream",
     "text": [
      "Accuracy: 96.56%\n"
     ]
    },
    {
     "name": "stderr",
     "output_type": "stream",
     "text": [
      "\r",
      " 10%|█         | 1/10 [01:18<11:50, 78.98s/it]"
     ]
    },
    {
     "name": "stdout",
     "output_type": "stream",
     "text": [
      "Accuracy: 94.53%\n",
      "Accuracy: 96.27%\n"
     ]
    },
    {
     "name": "stderr",
     "output_type": "stream",
     "text": [
      "\r",
      " 20%|██        | 2/10 [02:38<10:34, 79.29s/it]"
     ]
    },
    {
     "name": "stdout",
     "output_type": "stream",
     "text": [
      "Accuracy: 94.42%\n",
      "Accuracy: 96.65%\n"
     ]
    },
    {
     "name": "stderr",
     "output_type": "stream",
     "text": [
      "\r",
      " 30%|███       | 3/10 [03:55<09:09, 78.57s/it]"
     ]
    },
    {
     "name": "stdout",
     "output_type": "stream",
     "text": [
      "Accuracy: 94.25%\n",
      "Accuracy: 96.55%\n"
     ]
    },
    {
     "name": "stderr",
     "output_type": "stream",
     "text": [
      "\r",
      " 40%|████      | 4/10 [05:13<07:49, 78.33s/it]"
     ]
    },
    {
     "name": "stdout",
     "output_type": "stream",
     "text": [
      "Accuracy: 94.37%\n",
      "Accuracy: 96.85000000000001%\n"
     ]
    },
    {
     "name": "stderr",
     "output_type": "stream",
     "text": [
      "\r",
      " 50%|█████     | 5/10 [06:33<06:33, 78.77s/it]"
     ]
    },
    {
     "name": "stdout",
     "output_type": "stream",
     "text": [
      "Accuracy: 94.42%\n",
      "Accuracy: 96.59%\n"
     ]
    },
    {
     "name": "stderr",
     "output_type": "stream",
     "text": [
      "\r",
      " 60%|██████    | 6/10 [07:50<05:12, 78.17s/it]"
     ]
    },
    {
     "name": "stdout",
     "output_type": "stream",
     "text": [
      "Accuracy: 94.06%\n",
      "Accuracy: 96.54%\n"
     ]
    },
    {
     "name": "stderr",
     "output_type": "stream",
     "text": [
      "\r",
      " 70%|███████   | 7/10 [09:07<03:53, 77.91s/it]"
     ]
    },
    {
     "name": "stdout",
     "output_type": "stream",
     "text": [
      "Accuracy: 94.53%\n",
      "Accuracy: 96.61999999999999%\n"
     ]
    },
    {
     "name": "stderr",
     "output_type": "stream",
     "text": [
      "\r",
      " 80%|████████  | 8/10 [10:24<02:35, 77.76s/it]"
     ]
    },
    {
     "name": "stdout",
     "output_type": "stream",
     "text": [
      "Accuracy: 94.45%\n",
      "Accuracy: 96.6%\n"
     ]
    },
    {
     "name": "stderr",
     "output_type": "stream",
     "text": [
      "\r",
      " 90%|█████████ | 9/10 [11:42<01:17, 77.63s/it]"
     ]
    },
    {
     "name": "stdout",
     "output_type": "stream",
     "text": [
      "Accuracy: 94.28%\n",
      "Accuracy: 96.69%\n"
     ]
    },
    {
     "name": "stderr",
     "output_type": "stream",
     "text": [
      "\r",
      "100%|██████████| 10/10 [12:59<00:00, 77.41s/it]"
     ]
    },
    {
     "name": "stdout",
     "output_type": "stream",
     "text": [
      "Accuracy: 94.36%\n"
     ]
    },
    {
     "name": "stderr",
     "output_type": "stream",
     "text": [
      "\n"
     ]
    }
   ],
   "source": [
    "kmean_acc_5000, random_acc_5000 = [], []\n",
    "for i in tqdm.tqdm(range(10)):\n",
    "    M = 5000\n",
    "    components = 25\n",
    "    train_pca, test_pca = pca(trainData, testData, components)\n",
    "    reduced_train, reduced_label = prototype_selection(train_pca, trainLabels, M, components)\n",
    "    random_reduced_train, random_reduced_label = random_selection(train_pca, trainLabels, M)\n",
    "\n",
    "    # training data reduced by euclidean distance\n",
    "    knn = KNeighborsClassifier(n_neighbors=1)\n",
    "    knn.fit(reduced_train, reduced_label)\n",
    "    result = knn.predict(test_pca)\n",
    "    print(\"Accuracy: \" + str(np.sum(result==testLabels)/result.shape[0]*100) + '%')\n",
    "    kmean_acc_5000.append(np.sum(result==testLabels)/result.shape[0])\n",
    "    \n",
    "    # training data reduced by random\n",
    "    knn = KNeighborsClassifier(n_neighbors=1)\n",
    "    knn.fit(random_reduced_train, random_reduced_label)\n",
    "    result = knn.predict(test_pca)\n",
    "    random_acc_5000.append(np.sum(result==testLabels)/result.shape[0])\n",
    "    print(\"Accuracy: \" + str(np.sum(result==testLabels)/result.shape[0]*100) + '%')"
   ]
  },
  {
   "cell_type": "code",
   "execution_count": 64,
   "metadata": {},
   "outputs": [
    {
     "name": "stderr",
     "output_type": "stream",
     "text": [
      "\r",
      "  0%|          | 0/10 [00:00<?, ?it/s]"
     ]
    },
    {
     "name": "stdout",
     "output_type": "stream",
     "text": [
      "Accuracy: 96.93%\n"
     ]
    },
    {
     "name": "stderr",
     "output_type": "stream",
     "text": [
      "\r",
      " 10%|█         | 1/10 [02:12<19:53, 132.65s/it]"
     ]
    },
    {
     "name": "stdout",
     "output_type": "stream",
     "text": [
      "Accuracy: 95.67999999999999%\n",
      "Accuracy: 96.88%\n"
     ]
    },
    {
     "name": "stderr",
     "output_type": "stream",
     "text": [
      "\r",
      " 20%|██        | 2/10 [04:22<17:34, 131.81s/it]"
     ]
    },
    {
     "name": "stdout",
     "output_type": "stream",
     "text": [
      "Accuracy: 95.39999999999999%\n",
      "Accuracy: 96.91%\n"
     ]
    },
    {
     "name": "stderr",
     "output_type": "stream",
     "text": [
      "\r",
      " 30%|███       | 3/10 [06:33<15:21, 131.58s/it]"
     ]
    },
    {
     "name": "stdout",
     "output_type": "stream",
     "text": [
      "Accuracy: 95.47%\n",
      "Accuracy: 96.83%\n"
     ]
    },
    {
     "name": "stderr",
     "output_type": "stream",
     "text": [
      "\r",
      " 40%|████      | 4/10 [08:44<13:08, 131.49s/it]"
     ]
    },
    {
     "name": "stdout",
     "output_type": "stream",
     "text": [
      "Accuracy: 95.65%\n",
      "Accuracy: 96.64%\n"
     ]
    },
    {
     "name": "stderr",
     "output_type": "stream",
     "text": [
      "\r",
      " 50%|█████     | 5/10 [10:55<10:56, 131.39s/it]"
     ]
    },
    {
     "name": "stdout",
     "output_type": "stream",
     "text": [
      "Accuracy: 95.58%\n",
      "Accuracy: 96.89%\n"
     ]
    },
    {
     "name": "stderr",
     "output_type": "stream",
     "text": [
      "\r",
      " 60%|██████    | 6/10 [13:08<08:46, 131.60s/it]"
     ]
    },
    {
     "name": "stdout",
     "output_type": "stream",
     "text": [
      "Accuracy: 95.46%\n",
      "Accuracy: 96.65%\n"
     ]
    },
    {
     "name": "stderr",
     "output_type": "stream",
     "text": [
      "\r",
      " 70%|███████   | 7/10 [15:19<06:34, 131.62s/it]"
     ]
    },
    {
     "name": "stdout",
     "output_type": "stream",
     "text": [
      "Accuracy: 95.84%\n",
      "Accuracy: 96.81%\n"
     ]
    },
    {
     "name": "stderr",
     "output_type": "stream",
     "text": [
      "\r",
      " 80%|████████  | 8/10 [17:31<04:23, 131.72s/it]"
     ]
    },
    {
     "name": "stdout",
     "output_type": "stream",
     "text": [
      "Accuracy: 95.52000000000001%\n",
      "Accuracy: 96.71%\n"
     ]
    },
    {
     "name": "stderr",
     "output_type": "stream",
     "text": [
      "\r",
      " 90%|█████████ | 9/10 [19:44<02:12, 132.15s/it]"
     ]
    },
    {
     "name": "stdout",
     "output_type": "stream",
     "text": [
      "Accuracy: 95.39999999999999%\n",
      "Accuracy: 96.89%\n"
     ]
    },
    {
     "name": "stderr",
     "output_type": "stream",
     "text": [
      "\r",
      "100%|██████████| 10/10 [22:07<00:00, 135.31s/it]"
     ]
    },
    {
     "name": "stdout",
     "output_type": "stream",
     "text": [
      "Accuracy: 95.81%\n"
     ]
    },
    {
     "name": "stderr",
     "output_type": "stream",
     "text": [
      "\n"
     ]
    }
   ],
   "source": [
    "kmean_acc_10000, random_acc_10000 = [], []\n",
    "for i in tqdm.tqdm(range(10)):\n",
    "    M = 10000\n",
    "    components = 25\n",
    "    train_pca, test_pca = pca(trainData, testData, components)\n",
    "    reduced_train, reduced_label = prototype_selection(train_pca, trainLabels, M, components)\n",
    "    random_reduced_train, random_reduced_label = random_selection(train_pca, trainLabels, M)\n",
    "\n",
    "    # training data reduced by euclidean distance\n",
    "    knn = KNeighborsClassifier(n_neighbors=1)\n",
    "    knn.fit(reduced_train, reduced_label)\n",
    "    result = knn.predict(test_pca)\n",
    "    print(\"Accuracy: \" + str(np.sum(result==testLabels)/result.shape[0]*100) + '%')\n",
    "    kmean_acc_10000.append(np.sum(result==testLabels)/result.shape[0])\n",
    "    \n",
    "    # training data reduced by random\n",
    "    knn = KNeighborsClassifier(n_neighbors=1)\n",
    "    knn.fit(random_reduced_train, random_reduced_label)\n",
    "    result = knn.predict(test_pca)\n",
    "    random_acc_10000.append(np.sum(result==testLabels)/result.shape[0])\n",
    "    print(\"Accuracy: \" + str(np.sum(result==testLabels)/result.shape[0]*100) + '%')"
   ]
  },
  {
   "cell_type": "code",
   "execution_count": 68,
   "metadata": {},
   "outputs": [],
   "source": [
    "mean_100, std_100 = np.mean(kmean_acc_100), np.std(kmean_acc_100)\n",
    "mean_500, std_500 = np.mean(kmean_acc_500), np.std(kmean_acc_500)\n",
    "mean_1000, std_1000 = np.mean(kmean_acc_1000), np.std(kmean_acc_1000)\n",
    "mean_5000, std_5000 = np.mean(kmean_acc_5000), np.std(kmean_acc_5000)\n",
    "mean_10000, std_10000 = np.mean(kmean_acc_10000), np.std(kmean_acc_10000)"
   ]
  },
  {
   "cell_type": "code",
   "execution_count": 71,
   "metadata": {},
   "outputs": [],
   "source": [
    "random_mean_100, random_std_100 = np.mean(random_acc_100), np.std(random_acc_100)\n",
    "random_mean_500, random_std_500 = np.mean(random_acc_500), np.std(random_acc_500)\n",
    "random_mean_1000, random_std_1000 = np.mean(random_acc_1000), np.std(random_acc_1000)\n",
    "random_mean_5000, random_std_5000 = np.mean(random_acc_5000), np.std(random_acc_5000)\n",
    "random_mean_10000, random_std_10000 = np.mean(random_acc_10000), np.std(random_acc_10000)"
   ]
  },
  {
   "cell_type": "code",
   "execution_count": 237,
   "metadata": {},
   "outputs": [
    {
     "data": {
      "text/plain": [
       "0.0013301744727666413"
      ]
     },
     "execution_count": 237,
     "metadata": {},
     "output_type": "execute_result"
    }
   ],
   "source": [
    "1.96*random_std_10000/np.sqrt(5)"
   ]
  },
  {
   "cell_type": "code",
   "execution_count": 215,
   "metadata": {},
   "outputs": [
    {
     "data": {
      "text/plain": [
       "[0.05607584192552245,\n",
       " 0.012509023766924808,\n",
       " 0.007697675903348745,\n",
       " 0.0040942164076257954,\n",
       " 0.004615484045930322]"
      ]
     },
     "execution_count": 215,
     "metadata": {},
     "output_type": "execute_result"
    }
   ],
   "source": [
    "random_conf_interval"
   ]
  },
  {
   "cell_type": "code",
   "execution_count": null,
   "metadata": {},
   "outputs": [],
   "source": []
  },
  {
   "cell_type": "code",
   "execution_count": null,
   "metadata": {},
   "outputs": [],
   "source": []
  },
  {
   "cell_type": "code",
   "execution_count": 85,
   "metadata": {},
   "outputs": [],
   "source": [
    "idx = np.arange(5)\n",
    "width = 0.35\n",
    "dof = 4\n",
    "alpha = 1.0 - 0.95\n",
    "conf_interval = t.ppf(1-alpha/2., dof) * np.sqrt(1.+1./5)\n",
    "proto_conf_interval = [conf_interval*i for i in proto_std]\n",
    "random_conf_interval = [conf_interval*i for i in random_std]"
   ]
  },
  {
   "cell_type": "code",
   "execution_count": 184,
   "metadata": {},
   "outputs": [
    {
     "data": {
      "image/png": "[encoded data removed]",
      "text/plain": [
       "<Figure size 2160x360 with 5 Axes>"
      ]
     },
     "metadata": {},
     "output_type": "display_data"
    }
   ],
   "source": [
    "fig = plt.figure(figsize=(30,5))\n",
    "plt.subplot(1,5,1)\n",
    "plt.errorbar(0.85, mean_100, yerr=std_100, fmt='-o', label='standard deviation')\n",
    "plt.errorbar(0.95, mean_100, yerr=proto_conf_interval[0], fmt='-o', label='confidence interval')\n",
    "plt.errorbar(1.05, random_mean_100, yerr=random_std_100, fmt='-o', label='standard deviation',linestyle='--')\n",
    "plt.errorbar(1.15, random_mean_100, yerr=random_conf_interval[0], fmt='-o', label='confidence interval',linestyle='--')\n",
    "plt.xticks([])\n",
    "plt.xlabel('M = 100')\n",
    "plt.ylabel('accuracy')\n",
    "plt.grid(True, linestyle = \"--\", color = \"gray\", linewidth = 0.5)\n",
    "plt.legend()\n",
    "\n",
    "plt.subplot(1,5,2)\n",
    "plt.errorbar(0.9, mean_500, yerr=std_500, fmt='-o', label='standard deviation')\n",
    "plt.errorbar(1.1, mean_500, yerr=proto_conf_interval[1], fmt='-o', label='confidence interval')\n",
    "plt.xticks([0.7,1.3])\n",
    "plt.xlabel('M = 500')\n",
    "plt.ylabel('accuracy')\n",
    "plt.grid(True, linestyle = \"--\", color = \"gray\", linewidth = 0.5)\n",
    "plt.legend()\n",
    "\n",
    "plt.subplot(1,5,3)\n",
    "plt.errorbar(0.9, mean_1000, yerr=std_1000, fmt='-o', label='standard deviation')\n",
    "plt.errorbar(1.1, mean_1000, yerr=proto_conf_interval[2], fmt='-o', label='confidence interval')\n",
    "plt.xticks([0.7,1.3])\n",
    "plt.xlabel('M = 1000')\n",
    "plt.ylabel('accuracy')\n",
    "plt.grid(True, linestyle = \"--\", color = \"gray\", linewidth = 0.5)\n",
    "plt.legend()\n",
    "\n",
    "plt.subplot(1,5,4)\n",
    "plt.errorbar(0.9, mean_5000, yerr=std_5000, fmt='-o', label='standard deviation')\n",
    "plt.errorbar(1.1, mean_5000, yerr=proto_conf_interval[3], fmt='-o', label='confidence interval')\n",
    "plt.xticks([0.7,1.3])\n",
    "plt.xlabel('M = 5000')\n",
    "plt.ylabel('accuracy')\n",
    "plt.grid(True, linestyle = \"--\", color = \"gray\", linewidth = 0.5)\n",
    "plt.legend()\n",
    "\n",
    "plt.subplot(1,5,5)\n",
    "plt.errorbar(0.9, mean_10000, yerr=std_10000, fmt='-o', label='standard deviation')\n",
    "plt.errorbar(1.1, mean_10000, yerr=proto_conf_interval[4], fmt='-o', label='confidence interval')\n",
    "plt.xticks([])\n",
    "plt.xlabel('M = 10000')\n",
    "plt.ylabel('accuracy')\n",
    "plt.grid(True, linestyle = \"--\", color = \"gray\", linewidth = 0.5)\n",
    "plt.legend()\n",
    "\n",
    "plt.show()"
   ]
  },
  {
   "cell_type": "code",
   "execution_count": null,
   "metadata": {},
   "outputs": [],
   "source": []
  },
  {
   "cell_type": "code",
   "execution_count": null,
   "metadata": {},
   "outputs": [],
   "source": []
  },
  {
   "cell_type": "code",
   "execution_count": null,
   "metadata": {},
   "outputs": [],
   "source": []
  }
 ],
 "metadata": {
  "kernelspec": {
   "display_name": "Python 3",
   "language": "python",
   "name": "python3"
  },
  "language_info": {
   "codemirror_mode": {
    "name": "ipython",
    "version": 3
   },
   "file_extension": ".py",
   "mimetype": "text/x-python",
   "name": "python",
   "nbconvert_exporter": "python",
   "pygments_lexer": "ipython3",
   "version": "3.6.5"
  }
 },
 "nbformat": 4,
 "nbformat_minor": 2
}
