{
 "cells": [
  {
   "cell_type": "code",
   "execution_count": 1,
   "metadata": {},
   "outputs": [],
   "source": [
    "import numpy as np\n",
    "from sklearn.preprocessing import normalize\n",
    "import random\n",
    "from sklearn import linear_model\n",
    "import matplotlib.pyplot as plt\n",
    "\n",
    "%matplotlib inline"
   ]
  },
  {
   "cell_type": "code",
   "execution_count": 2,
   "metadata": {},
   "outputs": [],
   "source": [
    "# data preprocess\n",
    "def read():\n",
    "    f = open('wine.data.txt','r')\n",
    "    data = np.array([line.strip().split(',') for line in f])\n",
    "    data = data[:130,:]\n",
    "    data = np.random.permutation(data)\n",
    "    \n",
    "    labels = data[:130,0:1].astype('int') - 1\n",
    "    datas = data[:130,1:].astype('float')\n",
    "    \n",
    "    train_data = datas[:100,:]\n",
    "    train_label = labels[:100,:]\n",
    "    test_data = datas[100:,:]\n",
    "    test_label = labels[100:,:]\n",
    "    \n",
    "    return train_data, train_label, test_data, test_label\n",
    "\n",
    "train_data, train_label, test_data, test_label = read()"
   ]
  },
  {
   "cell_type": "code",
   "execution_count": 3,
   "metadata": {},
   "outputs": [],
   "source": [
    "def sigmoid(z):\n",
    "    \n",
    "    return 1.0 / (1.0 + np.exp(-z))\n",
    "\n",
    "def loss(W, X, Y):\n",
    "    \n",
    "    N = X.shape[0]\n",
    "    Yn = sigmoid(np.dot(X, W))\n",
    "    return (-1.0/N)*np.sum(Y*np.log(Yn+0.00000000000001)+(1-Y)*np.log(1-Yn+0.00000000000001))\n",
    "\n",
    "def accuracy(W, X, Y):\n",
    "    \n",
    "    count = 0\n",
    "    pred = sigmoid(np.dot(X, W))\n",
    "    pred[pred>=0.5] = 1\n",
    "    acc = np.sum(pred==Y)/Y.shape[0]\n",
    "    \n",
    "    return acc"
   ]
  },
  {
   "cell_type": "code",
   "execution_count": 4,
   "metadata": {},
   "outputs": [],
   "source": [
    "# implement coordinate descent method\n",
    "def coordinate_descent_train(train_data, train_label, test_data, test_label, k, lr=0.001):\n",
    "    \n",
    "    W = np.random.randn(train_data.shape[1], 1)\n",
    "    losses, acc = [], []\n",
    "    \n",
    "    for epo in range(1000):\n",
    "        \n",
    "        Yn = sigmoid(np.dot(train_data, W))\n",
    "        dW = np.dot(train_data.T, train_label-Yn)\n",
    "        idx = np.argsort(-abs(dW))[:k]\n",
    "        for i in idx:\n",
    "            W[i] += lr * dW[i]\n",
    "        \n",
    "        train_loss = loss(W, train_data, train_label)\n",
    "        losses.append(train_loss)\n",
    "        train_acc = accuracy(W, test_data, test_label)\n",
    "        acc.append(train_acc)\n",
    "        \n",
    "        if train_loss < 10e-4:\n",
    "            break\n",
    "    \n",
    "    return losses, acc"
   ]
  },
  {
   "cell_type": "code",
   "execution_count": 5,
   "metadata": {},
   "outputs": [],
   "source": [
    "# implement random method\n",
    "def random_train(train_data, train_label, test_data, test_label, k, lr=0.001):\n",
    "    \n",
    "    W = np.random.randn(train_data.shape[1], 1)\n",
    "    losses, acc = [], []\n",
    "    \n",
    "    for epo in range(1000):\n",
    "        \n",
    "        Yn = sigmoid(np.dot(train_data, W))\n",
    "        dW = np.dot(train_data.T, train_label-Yn)\n",
    "        \n",
    "        idx = list(np.random.permutation(train_data.shape[1]))[:k]\n",
    "        for i in idx:\n",
    "            W[i] += lr * dW[i]\n",
    "        \n",
    "        train_loss = loss(W, train_data, train_label)\n",
    "        losses.append(train_loss)\n",
    "        train_acc = accuracy(W, test_data, test_label)\n",
    "        acc.append(train_acc)\n",
    "        \n",
    "        if train_loss < 10e-4:\n",
    "            break\n",
    "    \n",
    "    return losses, acc"
   ]
  },
  {
   "cell_type": "code",
   "execution_count": 10,
   "metadata": {},
   "outputs": [
    {
     "name": "stdout",
     "output_type": "stream",
     "text": [
      "final loss:  0.054182206607047916\n",
      "final acc :  0.5666666666666667\n"
     ]
    }
   ],
   "source": [
    "#final loss \n",
    "logistic_model = linear_model.LogisticRegression(C=1e10, multi_class='multinomial', \n",
    "                                                 solver='lbfgs', fit_intercept=False)\n",
    "logistic_model.fit(train_data, np.ravel(train_label))\n",
    "logistic_weight = np.asarray(logistic_model.coef_)\n",
    "final_loss = loss(logistic_weight.T, train_data, train_label)\n",
    "final_acc = accuracy(logistic_weight.T, test_data, test_label)\n",
    "print(\"final loss: \", final_loss)\n",
    "print(\"final acc : \", final_acc)"
   ]
  },
  {
   "cell_type": "code",
   "execution_count": null,
   "metadata": {},
   "outputs": [],
   "source": [
    "# k = 1"
   ]
  },
  {
   "cell_type": "code",
   "execution_count": 29,
   "metadata": {},
   "outputs": [
    {
     "name": "stdout",
     "output_type": "stream",
     "text": [
      "final loss:  3.255915666740857\n",
      "final acc :  0.7\n"
     ]
    }
   ],
   "source": [
    "losses, acc = coordinate_descent_train(train_data, train_label, test_data, test_label, k=1, lr=0.01)\n",
    "print(\"final loss: \", losses[-1])\n",
    "print(\"final acc : \", acc[-1])"
   ]
  },
  {
   "cell_type": "code",
   "execution_count": 30,
   "metadata": {},
   "outputs": [
    {
     "name": "stdout",
     "output_type": "stream",
     "text": [
      "final loss:  4.190704869249155\n",
      "final acc :  0.9666666666666667\n"
     ]
    }
   ],
   "source": [
    "random_losses, random_acc = random_train(train_data, train_label, test_data, test_label, k=1, lr=0.01)\n",
    "print(\"final loss: \", random_losses[-1])\n",
    "print(\"final acc : \", random_acc[-1])"
   ]
  },
  {
   "cell_type": "code",
   "execution_count": null,
   "metadata": {},
   "outputs": [],
   "source": [
    "# k = 3"
   ]
  },
  {
   "cell_type": "code",
   "execution_count": 32,
   "metadata": {},
   "outputs": [
    {
     "name": "stdout",
     "output_type": "stream",
     "text": [
      "final loss:  2.6061704864179136\n",
      "final acc :  0.6\n"
     ]
    }
   ],
   "source": [
    "losses_3, acc_3 = coordinate_descent_train(train_data, train_label, test_data, test_label, k=3, lr=0.01)\n",
    "print(\"final loss: \", losses_3[-1])\n",
    "print(\"final acc : \", acc_3[-1])"
   ]
  },
  {
   "cell_type": "code",
   "execution_count": 33,
   "metadata": {},
   "outputs": [
    {
     "name": "stdout",
     "output_type": "stream",
     "text": [
      "final loss:  3.868342956229989\n",
      "final acc :  1.0\n"
     ]
    }
   ],
   "source": [
    "random_losses_3, random_acc_3 = random_train(train_data, train_label, test_data, test_label, k=3, lr=0.01)\n",
    "print(\"final loss: \", random_losses_3[-1])\n",
    "print(\"final acc : \", random_acc_3[-1])"
   ]
  },
  {
   "cell_type": "code",
   "execution_count": null,
   "metadata": {},
   "outputs": [],
   "source": [
    "# k = 5"
   ]
  },
  {
   "cell_type": "code",
   "execution_count": 35,
   "metadata": {},
   "outputs": [
    {
     "name": "stdout",
     "output_type": "stream",
     "text": [
      "final loss:  3.242252039721238\n",
      "final acc :  0.7\n"
     ]
    }
   ],
   "source": [
    "losses_5, acc_5 = coordinate_descent_train(train_data, train_label, test_data, test_label, k=5, lr=0.01)\n",
    "print(\"final loss: \", losses_5[-1])\n",
    "print(\"final acc : \", acc_5[-1])"
   ]
  },
  {
   "cell_type": "code",
   "execution_count": 36,
   "metadata": {},
   "outputs": [
    {
     "name": "stdout",
     "output_type": "stream",
     "text": [
      "final loss:  3.868342956229989\n",
      "final acc :  0.9\n"
     ]
    }
   ],
   "source": [
    "random_losses_5, random_acc_5 = random_train(train_data, train_label, test_data, test_label, k=5, lr=0.01)\n",
    "print(\"final loss: \", random_losses_5[-1])\n",
    "print(\"final acc : \", random_acc_5[-1])"
   ]
  },
  {
   "cell_type": "code",
   "execution_count": null,
   "metadata": {},
   "outputs": [],
   "source": [
    "# k = 7"
   ]
  },
  {
   "cell_type": "code",
   "execution_count": 87,
   "metadata": {},
   "outputs": [
    {
     "name": "stdout",
     "output_type": "stream",
     "text": [
      "final loss:  3.267390955646115\n",
      "final acc :  0.7\n"
     ]
    }
   ],
   "source": [
    "losses_7, acc_7 = coordinate_descent_train(train_data, train_label, test_data, test_label, k=7, lr=0.01)\n",
    "print(\"final loss: \", losses_7[-1])\n",
    "print(\"final acc : \", acc_7[-1])"
   ]
  },
  {
   "cell_type": "code",
   "execution_count": 94,
   "metadata": {},
   "outputs": [
    {
     "name": "stdout",
     "output_type": "stream",
     "text": [
      "final loss:  5.802514434344987\n",
      "final acc :  0.8333333333333334\n"
     ]
    }
   ],
   "source": [
    "random_losses_7, random_acc_7 = random_train(train_data, train_label, test_data, test_label, k=7, lr=0.01)\n",
    "print(\"final loss: \", random_losses_7[-1])\n",
    "print(\"final acc : \", random_acc_7[-1])"
   ]
  },
  {
   "cell_type": "code",
   "execution_count": null,
   "metadata": {},
   "outputs": [],
   "source": [
    "# k = 9"
   ]
  },
  {
   "cell_type": "code",
   "execution_count": 41,
   "metadata": {},
   "outputs": [
    {
     "name": "stdout",
     "output_type": "stream",
     "text": [
      "final loss:  3.002494383141035\n",
      "final acc :  0.6\n"
     ]
    }
   ],
   "source": [
    "losses_9, acc_9 = coordinate_descent_train(train_data, train_label, test_data, test_label, k=9, lr=0.01)\n",
    "print(\"final loss: \", losses_9[-1])\n",
    "print(\"final acc : \", acc_9[-1])"
   ]
  },
  {
   "cell_type": "code",
   "execution_count": 106,
   "metadata": {},
   "outputs": [
    {
     "name": "stdout",
     "output_type": "stream",
     "text": [
      "final loss:  4.190704869249156\n",
      "final acc :  0.9\n"
     ]
    }
   ],
   "source": [
    "random_losses_9, random_acc_9 = random_train(train_data, train_label, test_data, test_label, k=9, lr=0.01)\n",
    "print(\"final loss: \", random_losses_9[-1])\n",
    "print(\"final acc : \", random_acc_9[-1])"
   ]
  },
  {
   "cell_type": "code",
   "execution_count": null,
   "metadata": {},
   "outputs": [],
   "source": [
    "# k = 11"
   ]
  },
  {
   "cell_type": "code",
   "execution_count": 58,
   "metadata": {},
   "outputs": [
    {
     "name": "stdout",
     "output_type": "stream",
     "text": [
      "final loss:  2.9072474680892135\n",
      "final acc :  0.8\n"
     ]
    }
   ],
   "source": [
    "losses_11, acc_11 = coordinate_descent_train(train_data, train_label, test_data, test_label, k=11, lr=0.01)\n",
    "print(\"final loss: \", losses_11[-1])\n",
    "print(\"final acc : \", acc_11[-1])"
   ]
  },
  {
   "cell_type": "code",
   "execution_count": 112,
   "metadata": {},
   "outputs": [
    {
     "name": "stdout",
     "output_type": "stream",
     "text": [
      "final loss:  5.480152521325822\n",
      "final acc :  0.9\n"
     ]
    }
   ],
   "source": [
    "random_losses_11, random_acc_11 = random_train(train_data, train_label, test_data, test_label, k=11, lr=0.01)\n",
    "print(\"final loss: \", random_losses_11[-1])\n",
    "print(\"final acc : \", random_acc_11[-1])"
   ]
  },
  {
   "cell_type": "code",
   "execution_count": null,
   "metadata": {},
   "outputs": [],
   "source": [
    "# k = 13"
   ]
  },
  {
   "cell_type": "code",
   "execution_count": 59,
   "metadata": {},
   "outputs": [
    {
     "name": "stdout",
     "output_type": "stream",
     "text": [
      "final loss:  2.872786271753364\n",
      "final acc :  0.8\n"
     ]
    }
   ],
   "source": [
    "losses_13, acc_13 = coordinate_descent_train(train_data, train_label, test_data, test_label, k=13, lr=0.01)\n",
    "print(\"final loss: \", losses_13[-1])\n",
    "print(\"final acc : \", acc_13[-1])"
   ]
  },
  {
   "cell_type": "code",
   "execution_count": 60,
   "metadata": {},
   "outputs": [
    {
     "name": "stdout",
     "output_type": "stream",
     "text": [
      "final loss:  3.868342956229989\n",
      "final acc :  0.9\n"
     ]
    }
   ],
   "source": [
    "random_losses_13, random_acc_13 = random_train(train_data, train_label, test_data, test_label, k=13, lr=0.01)\n",
    "print(\"final loss: \", random_losses_13[-1])\n",
    "print(\"final acc : \", random_acc_13[-1])"
   ]
  },
  {
   "cell_type": "code",
   "execution_count": null,
   "metadata": {},
   "outputs": [],
   "source": []
  },
  {
   "cell_type": "code",
   "execution_count": 81,
   "metadata": {},
   "outputs": [],
   "source": [
    "def plot(losses, random_losses, final_loss):\n",
    "    \n",
    "    x = [t+1 for t in range(len(losses))]\n",
    "    x_ticks = [100*t for t in range(0,11)]\n",
    "    plt.figure()\n",
    "    plt.plot(x, losses/10, label='coordinate', color='r')\n",
    "    plt.plot(x, random_losses/10, label='random', color='y')\n",
    "    plt.plot(x, final_loss, label='final', color='b')\n",
    "    plt.xlabel('epoch')\n",
    "    plt.ylabel('loss')\n",
    "    plt.xticks(x_ticks)\n",
    "    plt.grid(True, linestyle = \"--\", color = \"gray\", linewidth = 0.5)\n",
    "    plt.legend()\n",
    "    plt.savefig(\"loss.png\")\n",
    "    plt.show()"
   ]
  },
  {
   "cell_type": "code",
   "execution_count": 82,
   "metadata": {},
   "outputs": [
    {
     "data": {
      "image/png": "[encoded data removed]",
      "text/plain": [
       "<Figure size 432x288 with 1 Axes>"
      ]
     },
     "metadata": {},
     "output_type": "display_data"
    }
   ],
   "source": [
    "plot(np.array(losses), np.array(random_losses), np.array([final_loss]*1000))"
   ]
  },
  {
   "cell_type": "code",
   "execution_count": null,
   "metadata": {},
   "outputs": [],
   "source": []
  },
  {
   "cell_type": "code",
   "execution_count": null,
   "metadata": {},
   "outputs": [],
   "source": []
  }
 ],
 "metadata": {
  "kernelspec": {
   "display_name": "Python 3",
   "language": "python",
   "name": "python3"
  },
  "language_info": {
   "codemirror_mode": {
    "name": "ipython",
    "version": 3
   },
   "file_extension": ".py",
   "mimetype": "text/x-python",
   "name": "python",
   "nbconvert_exporter": "python",
   "pygments_lexer": "ipython3",
   "version": "3.6.5"
  }
 },
 "nbformat": 4,
 "nbformat_minor": 2
}
